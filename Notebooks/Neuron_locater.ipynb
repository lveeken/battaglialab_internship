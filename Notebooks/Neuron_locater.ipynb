{
 "cells": [
  {
   "cell_type": "markdown",
   "id": "0a483e7d-11ab-4b6c-93e5-9d5863b58d2a",
   "metadata": {},
   "source": [
    "### Imports"
   ]
  },
  {
   "cell_type": "code",
   "execution_count": 7,
   "id": "34a2d1f3-a80f-431d-8eda-41269565be75",
   "metadata": {},
   "outputs": [],
   "source": [
    "import os\n",
    "import sys\n",
    "\n",
    "import caiman as cm\n",
    "from pathlib import Path\n",
    "from caiman.source_extraction.cnmf.cnmf import load_CNMF\n",
    "import pickle\n",
    "import numpy as np\n",
    "import matplotlib.pyplot as plt\n",
    "import glob\n",
    "from ipywidgets import interact, widgets, interact_manual, HBox, Label"
   ]
  },
  {
   "cell_type": "markdown",
   "id": "51b9a581-7454-47d9-a2d5-7e25433643a9",
   "metadata": {},
   "source": [
    "### Loading data"
   ]
  },
  {
   "cell_type": "code",
   "execution_count": 9,
   "id": "1464b13f-7ad3-42cd-bc27-cd441bed9d39",
   "metadata": {},
   "outputs": [],
   "source": [
    "name = \"\" # Insert name of folder\n",
    "data_path = Path(f'/vol/battaglialab/imaging1/{name}/preprocessing')\n",
    "sessions = { '456225_Freddy': ['20240501']}\n",
    "\n",
    "# Path to file with neuron location data\n",
    "data_path= Path(f'/vol/battaglialab/imaging1/{name}/preprocessing/456225_Freddy/20240501')\n",
    "cnmf_file = data_path.joinpath('cnmf.hdf5')\n",
    "cnmf = load_CNMF(cnmf_file)\n",
    "ests = cnmf.estimates\n",
    "\n",
    "\n",
    "metrics_file = data_path.joinpath('metrics.pickle')\n",
    "file = open(metrics_file,'rb') \n",
    "metrics= pickle.load(file)"
   ]
  },
  {
   "cell_type": "markdown",
   "id": "ffc94c79-4482-4ae9-83cc-b031314c6a51",
   "metadata": {},
   "source": [
    "### Multiple neuron locator"
   ]
  },
  {
   "cell_type": "code",
   "execution_count": 10,
   "id": "c5b598d8-7890-45e6-94b6-f2c97f97cb78",
   "metadata": {},
   "outputs": [
    {
     "data": {
      "application/vnd.jupyter.widget-view+json": {
       "model_id": "f10c1116cddb46f385d1baaa4053edb6",
       "version_major": 2,
       "version_minor": 0
      },
      "text/plain": [
       "interactive(children=(Text(value='', continuous_update=False, description='Neurons: ', placeholder='Enter the …"
      ]
     },
     "metadata": {},
     "output_type": "display_data"
    }
   ],
   "source": [
    "from matplotlib.patches import Circle\n",
    "from sklearn.cluster import KMeans\n",
    "\n",
    "def plot_neuron_location_with_clusters(neuron_input, n_clusters=3):\n",
    "    # Parse the neuron input\n",
    "    neuron_input = neuron_input.split(',')\n",
    "    neuron_input = [int(x.strip()) for x in neuron_input]\n",
    "    \n",
    "    good_footprints = ests.A[:, ests.idx_components].toarray()\n",
    "    combined_footprints = good_footprints.sum(axis=1).reshape(ests.dims)\n",
    "    \n",
    "    plt.figure(figsize=(8, 8))\n",
    "    cm = plt.get_cmap('tab20')\n",
    "\n",
    "    # Highlight neuron outlines\n",
    "    handles = []\n",
    "    centroids = []\n",
    "    for i, neuron in enumerate(neuron_input):\n",
    "        highlight_footprint = good_footprints[:, neuron].reshape(ests.dims)\n",
    "        # Add contour for neuron\n",
    "        plt.contour(highlight_footprint, levels=1, colors=cm(1. * i / len(neuron_input)), linewidths=2, alpha=1)\n",
    "        # Create a legend handle for the neuron\n",
    "        handle = plt.Line2D([], [], color=cm(1. * i / len(neuron_input)), lw=2, label=f'Neuron {neuron}')\n",
    "        handles.append(handle)\n",
    "\n",
    "        # Calculate centroid of the neuron\n",
    "        y_coords, x_coords = np.indices(highlight_footprint.shape)\n",
    "        total_intensity = highlight_footprint.sum()\n",
    "        if total_intensity > 0:\n",
    "            centroid_x = (x_coords * highlight_footprint).sum() / total_intensity\n",
    "            centroid_y = (y_coords * highlight_footprint).sum() / total_intensity\n",
    "            centroids.append((centroid_x, centroid_y))\n",
    "    \n",
    "    # Convert centroids to an array for clustering\n",
    "    centroids_array = np.array(centroids)\n",
    "    \n",
    "    if (len(centroids_array) > 0) & (n_clusters<len(centroids_array)):\n",
    "        # Perform K-means clustering\n",
    "        kmeans = KMeans(n_clusters=n_clusters)\n",
    "        kmeans.fit(centroids_array)\n",
    "        cluster_labels = kmeans.labels_\n",
    "        cluster_centers = kmeans.cluster_centers_\n",
    "\n",
    "        # Plot clusters and their circles\n",
    "        for i, center in enumerate(cluster_centers):\n",
    "            # Calculate spread (radius) for each cluster\n",
    "            cluster_distances = np.linalg.norm(centroids_array[cluster_labels == i] - center, axis=1)\n",
    "            cluster_radius = cluster_distances.max()  # Or np.std(cluster_distances)\n",
    "            circle = Circle(center, cluster_radius, color=plt.cm.tab20(i / n_clusters), fill=False, linestyle='--', lw=2, label=f'Cluster {i+1}')\n",
    "            plt.gca().add_patch(circle)\n",
    "            plt.scatter(*center, color=plt.cm.tab20(i / n_clusters), s=100, marker='x', label=f'Cluster {i+1} Center')\n",
    "    else:\n",
    "        print(\"For clusters, enter more neuron samples than the selected amount of clusters\")\n",
    "\n",
    "    # Display combined footprint and legend\n",
    "    plt.imshow(combined_footprints, cmap=plt.cm.gnuplot2, alpha=0.9)\n",
    "    plt.legend(handles=handles, loc='upper right', bbox_to_anchor=(1.25, 1.01))\n",
    "    plt.title(f'Neuron Locations with {n_clusters} clusters')\n",
    "    plt.tight_layout()\n",
    "    plt.show()\n",
    "\n",
    "# Interactive widget to select neurons and specify number of clusters\n",
    "max_neuron_index = len(ests.idx_components) - 1\n",
    "\n",
    "neuron_input = widgets.Text(\n",
    "    value='',\n",
    "    placeholder='Enter the neurons to locate',\n",
    "    description='Neurons: ',\n",
    "    disabled=False\n",
    ")\n",
    "\n",
    "widgets.interact_manual.opts['manual_name'] = 'Locate neurons'\n",
    "interact_manual(\n",
    "    plot_neuron_location_with_clusters, \n",
    "    neuron_input=neuron_input, \n",
    "    n_clusters=widgets.IntSlider(min=1, max=10, value=3)\n",
    ");\n"
   ]
  },
  {
   "cell_type": "code",
   "execution_count": null,
   "id": "2bfd774c-dae5-4239-88f7-3fe28143f640",
   "metadata": {},
   "outputs": [],
   "source": []
  }
 ],
 "metadata": {
  "kernelspec": {
   "display_name": "Python 3 (ipykernel)",
   "language": "python",
   "name": "python3"
  },
  "language_info": {
   "codemirror_mode": {
    "name": "ipython",
    "version": 3
   },
   "file_extension": ".py",
   "mimetype": "text/x-python",
   "name": "python",
   "nbconvert_exporter": "python",
   "pygments_lexer": "ipython3",
   "version": "3.11.10"
  }
 },
 "nbformat": 4,
 "nbformat_minor": 5
}
